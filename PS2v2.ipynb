{
 "cells": [
  {
   "cell_type": "code",
   "execution_count": 61,
   "id": "00095329",
   "metadata": {},
   "outputs": [],
   "source": [
    "import numpy as np\n",
    "import matplotlib.pyplot as plt\n",
    "import sodshock"
   ]
  },
  {
   "cell_type": "markdown",
   "id": "a0a21592",
   "metadata": {},
   "source": [
    "### Not so fast!\n",
    "\n",
    "Use a perturbation analysis to show that the leapfrog scheme (time-centered\n",
    "difference):\n",
    "$$\n",
    "\\rho^{n+1}_j - \\rho^{n-1}_j = -v_0 \\frac{\\Delta t}{\\Delta x}(\\rho^{n}_{j+1} - \\rho^{n}_{j-1} )\n",
    "$$\n",
    "is conditionally stable, i.e. it is stable as long as $\\Delta t \\leq \\Delta x/v_0$. Assume that $v_0$ is a constant velocity."
   ]
  },
  {
   "cell_type": "markdown",
   "id": "9c782a94",
   "metadata": {},
   "source": [
    "Perturbation:\n",
    "$$\n",
    "\\rho_j^n(k) = \\xi_j^n e^{ikj\\Delta x}\n",
    "$$\n",
    "\n",
    "Subbing into equation above:\n",
    "$$\n",
    "\\xi_j^{n+1} e^{ikj\\Delta x} - \\xi_j^{n-1} e^{ikj\\Delta x} = -v_0 \\frac{\\Delta t}{\\Delta x}(\\xi_{j}^{n} e^{ik(j+1)\\Delta x} -\\xi_{j}^{n} e^{ik(j-1)\\Delta x})\n",
    "$$\n",
    "We can then simplify this to\n",
    "$$\n",
    "\\xi_j^{n+1} - \\xi_j^{n-1}  = -v_0 \\frac{\\Delta t}{\\Delta x}(\\xi_{j}^{n} e^{ik\\Delta x} -\\xi_{j}^{n} e^{-ik\\Delta x}) \\\\\n",
    "\\xi - \\xi^{-1} = -v_0 \\frac{\\Delta t}{\\Delta x}( e^{ik\\Delta x|}- e^{-ik\\Delta x}) \\\\\n",
    "\\xi - \\xi^{-1} = -2i v_0 \\frac{\\Delta t}{\\Delta x} sin(k \\Delta x)\n",
    "$$\n",
    "squaring both sides, we get:\n",
    "$$\n",
    "\\xi^2 -2/\\xi +1/\\xi^2 = 4\\Big(v_0 \\frac{\\Delta t}{\\Delta x} \\Big)^2 sin^2(k \\Delta x)\n",
    "$$\n",
    "for $\\Delta t \\leq \\Delta x/v_0$ or $v_0 \\frac{\\Delta t}{\\Delta x} \\leq 1$, we can see that $\\xi$, or the perturbation will remain <1, therefore be stable. However, if $\\Delta t > \\Delta x/v_0$, it is easy to see that the perturbation will grow over time, thus be unstable, showing that the leapfrog scheme is conditionally stable given $\\Delta t \\leq \\Delta x/v_0$."
   ]
  },
  {
   "cell_type": "markdown",
   "id": "609886a6",
   "metadata": {},
   "source": [
    "### Sod it!\n",
    "\n",
    "Using the finite volume discretization given in class and a programming language\n",
    "of your choice, write your own 1D hydrodynamic solver.\n",
    "\n",
    "a) The quintessential shock benchmark problem is the “Sod Shock Tube” (first formulated\n",
    "by Sod in 1978). The problem involves setting up two discontinuous states at $t = 0$: a hot\n",
    "dense gas on the left and a cool, low-density gas on the right. The result is a shock wave\n",
    "that travels left to right into the cold gas, and a rarefaction wave that travels into the dense\n",
    "gas on the left.\n",
    "\n",
    "$\\it{Setup}$: Let the domain be [0,2], and set $\\rho_1$ = 1.0, $p_1$ = 1.0 for $x \\leq$0.75 and $\\rho_2$ = 0.125, $p_2$ = 0.1 for $ x >$ 0.75. Assume $\\gamma$ = 1.4 and use this to determine the specific energy. Set\n",
    "$v$ = 0 everywhere initially. Use symmetry boundary conditions and $N$ = 200 grid cells. Set\n",
    "the time step according to a CFL number of 0.5. implement an artificial viscosity of the\n",
    "form:\n",
    "\n",
    "$$\n",
    "\\begin{align}\n",
    "q_{i+1/2}^{n} &= [q_0 (u^n_{i+1}-u_i^n)^2 - q_1 (u^n_{i+1}-u_i^n)] \\frac{c_{s,i+1/2}}{\\bar{\\rho}} & \\Big( \\frac{u^n_{i+1}-u_i^n}{x^n_{i+1}-x_i^n} \\Big) < 0 \\\\\n",
    "q_{i+1/2}^{n} &= 0 & \\Big( \\frac{u^n_{i+1}-u_i^n}{x^n_{i+1}-x_i^n} \\Big) > 0\n",
    "\\end{align}\n",
    "$$\n",
    "\n",
    "where $\\bar{\\rho} = \\Big( \\frac{1}{\\rho^{n+1}_{i+1/2}} +  \\frac{1}{\\rho^{n}_{i+1/2}} \\Big)$, $q_0$ = 4 and $q_1$ = 0.5.\n",
    "\n",
    "Compute the solution at $t$ = 0.245 and make plots of the density, velocity, pressure and\n",
    "specific energy as a function of position. Compare the shock properties (speed, density\n",
    "jump, pressure jump, velocity) with that predicted for these conditions (e.g. see Stone &\n",
    "Norman 1992)."
   ]
  },
  {
   "cell_type": "code",
   "execution_count": 92,
   "id": "ba1a7f51",
   "metadata": {},
   "outputs": [],
   "source": [
    "class Fluid:\n",
    "    \"\"\"\n",
    "    Container that houses all fluid components\n",
    "    \"\"\"\n",
    "    def __init__(self, gamma = 1.4, CFL = 0.5, N=500, xmin = 0., xmax = 2.):\n",
    "        ### Just to store my constants\n",
    "        self.CFL = CFL\n",
    "        self.gamma = gamma\n",
    "        self.N = N\n",
    "        self.xmin = xmin\n",
    "        self.xmax = xmax\n",
    "        \n",
    "        self.v = np.zeros(self.N+3, dtype=np.float64)\n",
    "        self.rho = np.zeros(self.N+2, dtype=np.float64)\n",
    "        self.cs = np.zeros(self.N+2, dtype=np.float64)\n",
    "        self.e = np.zeros(self.N+2, dtype=np.float64)\n",
    "        self.p = np.zeros(self.N+2, dtype=np.float64)\n",
    "        #Delta m at the edges of cells\n",
    "        self.dme = np.zeros(self.N+3, dtype=np.float64)\n",
    "        #Delta m at the center of cells\n",
    "        self.dmc = np.zeros(self.N+2, dtype=np.float64)\n",
    "        self.q = np.zeros(self.N+2, dtype=np.float64)\n",
    "        self.dx = np.zeros(self.N+2, dtype=np.float64)\n",
    "        self.x = np.zeros(self.N+3, dtype=np.float64)\n",
    "        \n",
    "\n",
    "def initialize(f):\n",
    "    \n",
    "    f.x = f.xmin + (np.arange(f.N+3))*((f.xmax-f.xmin)/f.N)\n",
    "    \n",
    "    idx = np.argmax(f.x > 0.75) #index of first instance where x > 0.75\n",
    "    f.rho[:idx-1] = 1.0\n",
    "    f.p[:idx-1] = 1.0\n",
    "    f.rho[idx-1:] = 0.125\n",
    "    f.p[idx-1:] = 0.1\n",
    "    \n",
    "    f.dmc = (f.xmax-f.xmin)*f.rho/f.N\n",
    "    f.dme = np.pad(0.5*(f.dmc[:-1]+f.dmc[1:]), (1,1), 'symmetric')\n",
    "\n",
    "    f.dx = (f.x[1:]-f.x[:-1])\n",
    "    \n",
    "    f.e = f.p/(f.rho*(f.gamma-1))\n",
    "    \n",
    "    f.cs = soundspeed(f)\n",
    "\n",
    "    prevf = f\n",
    "\n",
    "    f.q = calculate_q(f, prevf)\n",
    "    \n",
    "    return f\n",
    "\n",
    "def calculate_q(f, prevf):\n",
    "    \"\"\"\n",
    "    Calculates time-lagged artificial viscosity\n",
    "    \n",
    "    Parameters\n",
    "    ----------\n",
    "    f : array \n",
    "        N size array for each fluid variable at timestep\n",
    "    prevf : array \n",
    "        N size array for each fluid variable at timestep-1\n",
    "   \n",
    "    Returns\n",
    "    ----------\n",
    "    f : array\n",
    "        returns the modified arry with updated artificial viscosity\n",
    "    \"\"\"\n",
    "    \n",
    "    f.q = np.zeros(f.N+2, dtype=np.float64)\n",
    "\n",
    "    q0 = 4.\n",
    "    q1 = 0.5\n",
    "    \n",
    "    \n",
    "    for i in range(1, f.N-1):    #Do not modify ghost cells\n",
    "        if ((f.v[i+1]-f.v[i])/(f.x[i+1]-f.x[i]) < 0):\n",
    "            f.q[i] = (q0*(f.v[i+1]-f.v[i])**2 - q1*(f.v[i+1]-f.v[i])*\n",
    "                      f.cs[i]/(0.5*(1./f.rho[i]+1./prevf.rho[i])))\n",
    "        else:\n",
    "            f.q[i] == 0.\n",
    "            \n",
    "    return f.q\n",
    "\n",
    "def soundspeed(f):\n",
    "    \"\"\"\n",
    "    Calculates sound speed at each spatial step\n",
    "    \n",
    "    Returns:\n",
    "    ----------\n",
    "    cs : array\n",
    "        sound speed given density and pressure at that spatial position\n",
    "    \"\"\"\n",
    "    ### Calculate sound speed\n",
    "    cs = np.sqrt(f.gamma * f.p/f.rho)\n",
    "    return cs\n",
    "\n",
    "\n",
    "def timestep(f):\n",
    "    \"\"\"\n",
    "    Calculate timestep using CFL condition\n",
    "    \"\"\"\n",
    "    ### dt = CFL*dx/v, where v is the max of velocity or velocity +- cs\n",
    "    dt = f.CFL * np.min(f.dx/np.abs((f.v[:-1]+f.cs)))\n",
    "    return dt\n",
    "\n",
    "\n",
    "def update(f, time):\n",
    "    \n",
    "    if time == 0:    #first pass, set arbitrary dt since CFL condition will break with 0 velocities\n",
    "        dt = 0.0001\n",
    "    else:    #calculate time step based on CFL conditions\n",
    "        dt = timestep(f)\n",
    "    \n",
    "    newf =  initialize(Fluid())\n",
    "    \n",
    "    #Do not update ghost cells\n",
    "    newf.v[1:-1] = f.v[1:-1] - dt*(f.p[1:]-f.p[:-1]+f.q[1:]-f.q[:-1])/f.dme[1:-1]\n",
    "\n",
    "    newf.x[1:-1] = f.x[1:-1] + dt*newf.v[1:-1]\n",
    "    \n",
    "    newf.dx = newf.x[1:]-newf.x[:-1]\n",
    "\n",
    "    newf.rho[1:-1] = f.dmc[1:-1]/(newf.dx[1:-1])\n",
    "\n",
    "    newf.cs = soundspeed(newf)\n",
    "    \n",
    "    newf.e[1:-1] = f.e[1:-1] -(f.p[1:-1]+f.q[1:-1])*(1./newf.rho[1:-1]-1./f.rho[1:-1])\n",
    "\n",
    "    newf.p[1:-1] = newf.e[1:-1]*newf.rho[1:-1]*(f.gamma-1)\n",
    "\n",
    "    newf.q[1:-1] = calculate_q(newf, f)[1:-1]\n",
    "\n",
    "    time = time+dt\n",
    "    \n",
    "    return newf, time\n",
    "    "
   ]
  },
  {
   "cell_type": "code",
   "execution_count": 93,
   "id": "3145eb75",
   "metadata": {},
   "outputs": [
    {
     "name": "stderr",
     "output_type": "stream",
     "text": [
      "<ipython-input-92-c976e4fa33d5>:94: RuntimeWarning: invalid value encountered in sqrt\n",
      "  cs = np.sqrt(f.gamma * f.p/f.rho)\n"
     ]
    },
    {
     "data": {
      "text/plain": [
       "(0.0, 1.1)"
      ]
     },
     "execution_count": 93,
     "metadata": {},
     "output_type": "execute_result"
    },
    {
     "data": {
      "image/png": "[encoded data removed]",
      "text/plain": [
       "<Figure size 432x288 with 1 Axes>"
      ]
     },
     "metadata": {
      "needs_background": "light"
     },
     "output_type": "display_data"
    }
   ],
   "source": [
    "f = Fluid(N= 500)\n",
    "f = initialize(f)\n",
    "prevf = f\n",
    "\n",
    "time = 0\n",
    "\n",
    "while time < 0.245:\n",
    "    newf, time = update(f, time)\n",
    "    f = newf\n",
    "    \n",
    "    \n",
    "plt.plot(f.x[1:], f.p)\n",
    "plt.ylim(0, 1.1)"
   ]
  },
  {
   "cell_type": "code",
   "execution_count": 109,
   "id": "cb7cfad5",
   "metadata": {},
   "outputs": [
    {
     "data": {
      "image/png": "[encoded data removed]",
      "text/plain": [
       "<Figure size 1008x576 with 4 Axes>"
      ]
     },
     "metadata": {
      "needs_background": "light"
     },
     "output_type": "display_data"
    }
   ],
   "source": [
    "\"\"\"\n",
    "Looking at another numerical code\n",
    "\"\"\"\n",
    "gamma = 1.4\n",
    "dustFrac = 0.0\n",
    "npts = 100\n",
    "t = 0.245\n",
    "left_state = (1,1,0)\n",
    "right_state = (0.1, 0.125, 0.)\n",
    "\n",
    "# left_state and right_state set pressure, density and u (velocity)\n",
    "# geometry sets left boundary on 0., right boundary on 1 and initial\n",
    "# position of the shock xi on 0.5\n",
    "# t is the time evolution for which positions and states in tube should be \n",
    "# calculated\n",
    "# gamma denotes specific heat\n",
    "# note that gamma and npts are default parameters (1.4 and 500) in solve \n",
    "# function\n",
    "positions, regions, values = sodshock.solve(left_state=left_state, \\\n",
    "    right_state=right_state, geometry=(0., 1., 0.5), t=t, \n",
    "    gamma=gamma, npts=100, dustFrac=dustFrac)\n",
    "positions2, regions2, values2 = sodshock.solve(left_state=left_state, \\\n",
    "    right_state=right_state, geometry=(0., 1., 0.5), t=t, \n",
    "    gamma=gamma, npts=200, dustFrac=dustFrac)\n",
    "positions3, regions3, values3 = sodshock.solve(left_state=left_state, \\\n",
    "    right_state=right_state, geometry=(0., 1., 0.5), t=t, \n",
    "    gamma=gamma, npts=400, dustFrac=dustFrac)\n",
    "# Finally, let's plot the solutions\n",
    "f, axarr = plt.subplots(len(values)-2, sharex=True,figsize=(14,8))\n",
    "\n",
    "axarr[0].plot(values['x'], values['p'], linewidth=1.5, color='k', label='N=100', alpha=0.5)\n",
    "axarr[0].plot(values2['x'], values2['p'], linewidth=1.5, color=\"#34657C\", label='N=200', alpha=0.5)\n",
    "axarr[0].plot(values3['x'], values3['p'], linewidth=1.5, color='#98282E', label='N=400', alpha=0.5)\n",
    "axarr[0].set_ylabel('pressure')\n",
    "axarr[0].set_ylim(0, 1.1)\n",
    "axarr[0].legend()\n",
    "\n",
    "axarr[1].plot(values['x'], values['rho'], linewidth=1.5, color='k', alpha=0.7)\n",
    "axarr[1].plot(values2['x'], values2['rho'], linewidth=1.5, color=\"#34657C\", alpha=0.7)\n",
    "axarr[1].plot(values3['x'], values3['rho'], linewidth=1.5, color='#98282E', alpha=0.7)\n",
    "axarr[1].set_ylabel('density')\n",
    "axarr[1].set_ylim(0, 1.1)\n",
    "\n",
    "axarr[2].plot(values['x'], values['u'], linewidth=1.5, color='k', alpha=0.7)\n",
    "axarr[2].plot(values2['x'], values2['u'], linewidth=1.5, color=\"#34657C\", alpha=0.7)\n",
    "axarr[2].plot(values3['x'], values3['u'], linewidth=1.5, color='#98282E', alpha=0.7)\n",
    "axarr[2].set_ylabel('velocity')\n",
    "\n",
    "axarr[3].plot(values['x'], values['energy'], linewidth=1.5, color='k', alpha=0.7)\n",
    "axarr[3].plot(values2['x'], values2['energy'], linewidth=1.5, color=\"#34657C\", alpha=0.7)\n",
    "axarr[3].plot(values3['x'], values3['energy'], linewidth=1.5, color='#98282E', alpha=0.7)\n",
    "axarr[3].set_ylabel('energy')\n",
    "\n",
    "plt.suptitle('Shocktube results')\n",
    "plt.show()"
   ]
  },
  {
   "cell_type": "code",
   "execution_count": null,
   "id": "b128b178",
   "metadata": {},
   "outputs": [],
   "source": []
  },
  {
   "cell_type": "markdown",
   "id": "d1483a36",
   "metadata": {},
   "source": [
    "(b) Simple numerical schemes are prone to certain artifacts near the shock interface. What\n",
    "deviations from the analytic solution do you notice? What numerical improvements would\n",
    "you apply to address them?"
   ]
  },
  {
   "cell_type": "markdown",
   "id": "787176fc",
   "metadata": {},
   "source": [
    "The behavior of the numerical solutions at the shock interface struggle to produce the analytic solution. The points are not able to model the discontinuities perfectly and instead are slightly continuous. To improve the numerical solution, we could model a higher order scheme or increase the physical binning (N)."
   ]
  },
  {
   "cell_type": "markdown",
   "id": "cac086e9",
   "metadata": {},
   "source": [
    "(c) Check the shock solution for N = 100,200 and 400 grid cells. How quickly is the solution\n",
    "converging? Is this consistent with your expectations?"
   ]
  },
  {
   "cell_type": "markdown",
   "id": "384e3147",
   "metadata": {},
   "source": [
    "The solution converges to the analytic solution quicker with higher N, as expected. It is able to model the discontinuity with a steeper line, however is still not perfectly able to capture the nature of the discontinuity."
   ]
  },
  {
   "cell_type": "markdown",
   "id": "92ab4e5a",
   "metadata": {},
   "source": [
    "(d) Decrease the CFL number to 0.25 and increase it to 1.1. What happens to the shock\n",
    "solution in each case?"
   ]
  },
  {
   "cell_type": "code",
   "execution_count": null,
   "id": "163eb64d",
   "metadata": {},
   "outputs": [],
   "source": []
  },
  {
   "cell_type": "markdown",
   "id": "d4b97c79",
   "metadata": {},
   "source": [
    "(e) Evaluate how sensitive the solution is to magnitude of the coefficient of artificial viscosity.\n",
    "Increase the viscosity coefficients by a factor of 2 and decrease them by a factor of 2. How\n",
    "does the solution change? What impact do the two different viscous components have on\n",
    "the solution?"
   ]
  },
  {
   "cell_type": "code",
   "execution_count": null,
   "id": "ecbe46ea",
   "metadata": {},
   "outputs": [],
   "source": []
  }
 ],
 "metadata": {
  "kernelspec": {
   "display_name": "Python 3",
   "language": "python",
   "name": "python3"
  },
  "language_info": {
   "codemirror_mode": {
    "name": "ipython",
    "version": 3
   },
   "file_extension": ".py",
   "mimetype": "text/x-python",
   "name": "python",
   "nbconvert_exporter": "python",
   "pygments_lexer": "ipython3",
   "version": "3.8.8"
  }
 },
 "nbformat": 4,
 "nbformat_minor": 5
}
