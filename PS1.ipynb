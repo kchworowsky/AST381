{
 "cells": [
  {
   "cell_type": "markdown",
   "id": "523ef00c",
   "metadata": {},
   "source": [
    "### Floating away..."
   ]
  },
  {
   "cell_type": "code",
   "execution_count": 135,
   "id": "aa36a555",
   "metadata": {},
   "outputs": [],
   "source": [
    "import numpy as np\n",
    "import matplotlib.pyplot as plt"
   ]
  },
  {
   "cell_type": "markdown",
   "id": "8197b4cf",
   "metadata": {},
   "source": [
    "a) (Z ex1.1) In your choice of programming language, create a floating point variable and\n",
    "initialize it to 0.1. Now, print it out in full precision (you may need to use format specifiers\n",
    "in your language to get all significant digits the computer tracks).\n",
    "\n",
    "You should see that it is not exactly 0.1 to the computer—this is the floating point error.\n",
    "The number 0.1 is not exactly representable in the binary format used for floating point.\n",
    "What is the degree of floating point error you find? How does this floating point error change\n",
    "if you declare variable as “single precision” versus “double precision”?"
   ]
  },
  {
   "cell_type": "code",
   "execution_count": 136,
   "id": "6b525b24",
   "metadata": {},
   "outputs": [
    {
     "name": "stdout",
     "output_type": "stream",
     "text": [
      "0.1 in single precision is: 0.10000000149011611938476562500000\n",
      "The degree of precision is up to 1e-8\n"
     ]
    }
   ],
   "source": [
    "s = np.single(0.1)\n",
    "\n",
    "print('0.1 in single precision is:',format(s, '.32f'))\n",
    "print('The degree of precision is up to 1e-8')"
   ]
  },
  {
   "cell_type": "code",
   "execution_count": 137,
   "id": "adfbe517",
   "metadata": {},
   "outputs": [
    {
     "name": "stdout",
     "output_type": "stream",
     "text": [
      "0.1 in double precision is: 0.1000000000000000055511151231257827021181583404541015625000000000\n",
      "The degree of precision is up to 1e-17\n"
     ]
    }
   ],
   "source": [
    "d = np.double(0.1)\n",
    "\n",
    "print('0.1 in double precision is:',format(d, '.64f'))\n",
    "print('The degree of precision is up to 1e-17')"
   ]
  },
  {
   "cell_type": "markdown",
   "id": "3b5bd87a",
   "metadata": {},
   "source": [
    "b) (Z ex1.2) Using the method you sketched out in class, determine the roundoff error, $\\epsilon$, for\n",
    "your machine."
   ]
  },
  {
   "cell_type": "code",
   "execution_count": 4,
   "id": "b1be0107",
   "metadata": {},
   "outputs": [
    {
     "name": "stdout",
     "output_type": "stream",
     "text": [
      "The roundoff error for my machine is: 0.0000000000000001110223024625156540423631668090820312500000000000\n"
     ]
    }
   ],
   "source": [
    "epsilon = 1.\n",
    "\n",
    "while epsilon+1>1:\n",
    "    epsilon = epsilon/2.\n",
    "    \n",
    "print('The roundoff error for my machine is:', format(epsilon, '.64f'))\n"
   ]
  },
  {
   "cell_type": "markdown",
   "id": "80e2e8c7",
   "metadata": {},
   "source": [
    "c) For kicks, check in with a couple of your classmates who have different hardware and/or\n",
    "operating systems. Compare your answers for (a) and (b). What do you find?"
   ]
  },
  {
   "cell_type": "markdown",
   "id": "2f15b09d",
   "metadata": {},
   "source": [
    "#### I am running:\n",
    "\n",
    "Python 3.7 on Ubuntu 20.04.3 LTS\n",
    "\n",
    "Processor: Intel® Core™ i7-9700 CPU @ 3.00GHz × 8 \n",
    "\n",
    "#### Comparing to Alexa's:\n",
    "\n",
    "MacBook Pro (13-inch, 2017, Two Thunderbolt 3 ports)\n",
    "\n",
    "Processor: 2.3 GHz Dual-Core Intel Core i5\n",
    "\n",
    "Memory: 8 GB 2133 MHz LPDDR3\n",
    "\n",
    "Running python3.7\n",
    "\n",
    "#### results\n",
    "\n",
    "0.1 in single precision: 0.100000001490116119384765625\n",
    "\n",
    "0.1 in double precision: 0.1000000000000000055511151231257827021181583404541015625\n",
    "\n",
    "roundoff error: 1.1102230246251565e-16\n",
    "\n",
    "##### ---\n",
    "Her result are the same as mine, this makes sense since single and double precision numbers are allocated a fixed number of bits, independent of the machine it is running on. Therefore both machines will represent 0.1 in binary format with a fixed number of bits (32 for single and 64 for double). Similarly, in determining the round off error, the different machines will be unable to differentiate epsilon from 1 with the same round off error."
   ]
  },
  {
   "cell_type": "markdown",
   "id": "5cee856d",
   "metadata": {},
   "source": [
    "### Integral Processes"
   ]
  },
  {
   "cell_type": "markdown",
   "id": "d89ee9e6",
   "metadata": {},
   "source": [
    "Numerical integration is important for solving ordinary differential equations, among other\n",
    "data analysis tasks. Previously you’ve likely used a built-in function in Python or the\n",
    "equivalent in another programming language. You may have treated it as a black-box and\n",
    "didn’t think too closely about it’s degree of accuracy. In this problem, you’re going to dig into\n",
    "the integration black-box a little bit more. First, you’ll start by writing you own integration\n",
    "routines to evaluate a general integral:\n",
    "$$\n",
    "I = \\int_a^b f(x)dx\n",
    "$$\n",
    "I. One of the simplest methods for integration as we discussed in class uses the Rectangle\n",
    "Rule:\n",
    "$$\n",
    "I = \\sum_{i=1}^{N}f(x_i)\\Delta x\n",
    "$$\n",
    "where N is the number of (equal-sized) integration steps and $\\Delta x = (b−a)/N$, $x_i = a+ (i−\n",
    "1)\\Delta x$.\n",
    "\n",
    "II. Another *slightly* more sophisticated approach uses the Trapezoid Rule:\n",
    "$$\n",
    "I = \\Delta x\\sum_{i=1}^{N}\\frac{f(x_i)+f(x_{i+1})}{2}\n",
    "$$\n",
    "This may seem to require twice as many function evaluations as the method above, but there\n",
    "is a simple way to avoid this, which you should implement."
   ]
  },
  {
   "cell_type": "markdown",
   "id": "961d74c7",
   "metadata": {},
   "source": [
    "a) Numerically compute the integral\n",
    "$$\n",
    "\\int_1^5 \\frac{1}{x^{3/2}}dx\n",
    "$$\n",
    "with both methods above, and plot the error in the numerical integral against the step size\n",
    " $\\Delta x$ for both methods. Approximately how many steps are required to get an answer with\n",
    "a fractional error |$I −I_{exact}| /I_{exact} < 10^{-3}$ for the rectangle and the trapezoid rule? What\n",
    "about $10^{-5}$?\n",
    "What did you learn about the trade-off between method, accuracy and calculation speed?"
   ]
  },
  {
   "cell_type": "code",
   "execution_count": 77,
   "id": "53859c94",
   "metadata": {},
   "outputs": [],
   "source": [
    "def rectangle(func, a, b, N):   \n",
    "    \"\"\"\n",
    "    Estimates the integral of function f using the Rectangle Rule\n",
    "    \n",
    "    Parameters\n",
    "    ----------\n",
    "    func : {function}\n",
    "        A Python function or method to integrate. \n",
    "    a : float\n",
    "        integral lower limit\n",
    "    b : float \n",
    "        integral upper limit\n",
    "    N : int\n",
    "        number of equally spaced steps \n",
    "\n",
    "    Returns\n",
    "    ----------\n",
    "    I : float\n",
    "        The integral of f from a to b.\n",
    "    \"\"\"\n",
    "\n",
    "    I = 0\n",
    "    dx = (b-a)/N\n",
    "    for i in range(N):    #iterate through steps\n",
    "        xi = a+(i*dx)    #index i starts at 0\n",
    "        I = I+(func(xi)*dx)\n",
    "    return I\n",
    "\n",
    "def trapezoid(func, a, b, N): \n",
    "    \"\"\"\n",
    "    Estimates the integral of function f using the Trapezoid Rule\n",
    "    \n",
    "    Parameters\n",
    "    ----------\n",
    "    func : {function}\n",
    "        A Python function or method to integrate. \n",
    "    a : float\n",
    "        integral lower limit\n",
    "    b : float \n",
    "        integral upper limit\n",
    "    N : int\n",
    "        number of equally spaced steps \n",
    "\n",
    "    Returns\n",
    "    ----------\n",
    "    I : float\n",
    "        The integral of f from a to b.\n",
    "    \"\"\"\n",
    "    I = 0\n",
    "    dx = (b-a)/N\n",
    "    for i in range(N):    #iterate through steps\n",
    "        xi = a+(i*dx)    \n",
    "        xip1 = a+((i+1)*dx)\n",
    "        I = I+(dx*((func(xi)+func(xip1))/2.))\n",
    "    return I\n",
    "\n",
    "def f(x):\n",
    "    return x**(-3./2.)\n",
    "\n",
    "def calc_frac_err(Ieval, Iexact):\n",
    "    \"\"\"\n",
    "    Calculates the fractional error given exact and estimated value\n",
    "    \"\"\"\n",
    "    return abs(Ieval-Iexact)/Iexact"
   ]
  },
  {
   "cell_type": "code",
   "execution_count": 36,
   "id": "8487212b",
   "metadata": {},
   "outputs": [],
   "source": [
    "Iexact = -2./np.sqrt(5)+2.    #Evalutated analytically\n",
    "\n",
    "N_arr = np.logspace(0,6,1000, dtype = int)\n",
    "\n",
    "### Calculate integral using Rectangle Rule\n",
    "frac_err_rec = np.array([calc_frac_err(rectangle(f, 1, 5, N), Iexact) for N in N_arr])\n",
    "\n",
    "### Calculate integral using Trapezoid Rule\n",
    "frac_err_trap = np.array([calc_frac_err(trapezoid(f, 1, 5, N), Iexact) for N in N_arr])"
   ]
  },
  {
   "cell_type": "code",
   "execution_count": 42,
   "id": "e251fff2",
   "metadata": {},
   "outputs": [
    {
     "name": "stdout",
     "output_type": "stream",
     "text": [
      "Using the Rectangle Rule:\n",
      "The number of step required to get a fractional error of < 0.001 is approximately: 1668 steps\n",
      "The number of step required to get a fractional error of < 1e-05 is approximately: 165362 steps\n",
      "\n",
      "Using the Trapezoid Rule:\n",
      "The number of step required to get a fractional error of < 0.001 is approximately: 43 steps\n",
      "The number of step required to get a fractional error of < 1e-05 is approximately: 429 steps\n"
     ]
    },
    {
     "data": {
      "text/plain": [
       "<matplotlib.legend.Legend at 0x7f0786af7d90>"
      ]
     },
     "execution_count": 42,
     "metadata": {},
     "output_type": "execute_result"
    },
    {
     "data": {
      "image/png": "[encoded data removed]",
      "text/plain": [
       "<Figure size 576x504 with 2 Axes>"
      ]
     },
     "metadata": {
      "needs_background": "light"
     },
     "output_type": "display_data"
    }
   ],
   "source": [
    "### Plot results\n",
    "\n",
    "stepsize = 4./N_arr    #stepsize = (b-a)/N\n",
    "\n",
    "e1_idx_rec = np.argmax(frac_err_rec < 1e-3)    #index of first instance where the fractional error < 1e-3\n",
    "e2_idx_rec = np.argmax(frac_err_rec < 1e-5)    #index of first instance where the fractional error < 1e-5\n",
    "\n",
    "e1_idx_trap = np.argmax(frac_err_trap < 1e-3)    #index of first instance where the fractional error < 1e-3\n",
    "e2_idx_trap = np.argmax(frac_err_trap < 1e-5)    #index of first instance where the fractional error < 1e-5\n",
    "\n",
    "\n",
    "print(\"Using the Rectangle Rule:\")\n",
    "print(\"The number of step required to get a fractional error of < {} is approximately:\".format(1e-3), \n",
    "      N_arr[e1_idx_rec], \"steps\")\n",
    "print(\"The number of step required to get a fractional error of < {} is approximately:\".format(1e-5), \n",
    "      N_arr[e2_idx_rec], \"steps\")\n",
    "\n",
    "print(\"\\nUsing the Trapezoid Rule:\")\n",
    "print(\"The number of step required to get a fractional error of < {} is approximately:\".format(1e-3), \n",
    "      N_arr[e1_idx_trap], \"steps\")\n",
    "print(\"The number of step required to get a fractional error of < {} is approximately:\".format(1e-5), \n",
    "      N_arr[e2_idx_trap], \"steps\")\n",
    "\n",
    "\n",
    "fig = plt.figure(figsize = (8, 7))\n",
    "ax1 = fig.add_subplot(111)\n",
    "\n",
    "### make second axis for steps (N)\n",
    "ax2 = ax1.twiny()\n",
    "###\n",
    "\n",
    "ax1.plot(stepsize,frac_err_rec, lw=3, label='Rectangle Rule')\n",
    "ax1.plot(stepsize,frac_err_trap, color='#98282E', lw=3, label='Trapezoid Rule')\n",
    "\n",
    "ax1.set_yscale('log')\n",
    "ax1.set_xscale('log')\n",
    "ax2.set_xscale('log')\n",
    "ax1.set_xlim(4e-6, 4)\n",
    "ax1.set_ylim(1e-6, 1)\n",
    "\n",
    "### Configure axis for N\n",
    "ax2.set_xlim(ax1.get_xlim())\n",
    "step_tick_labels = np.array([1, 10, N_arr[e1_idx_trap], N_arr[e1_idx_rec], \n",
    "                             N_arr[e2_idx_trap],10000, N_arr[e2_idx_rec]])\n",
    "tick_loc = 4./step_tick_labels\n",
    "ax2.set_xticks(tick_loc)\n",
    "ax2.set_xticklabels(step_tick_labels)\n",
    "\n",
    "### Plot lines for error of 1e-3 and 1e-5\n",
    "ax1.axhline(1e-3,0, 4, ls='dashed', color = 'k', alpha=0.5)\n",
    "ax1.axhline(1e-5,0, 4, ls='dotted', color = 'k', alpha=0.5)\n",
    "ax2.axvline(stepsize[e1_idx_rec], ls='dashed', alpha=0.5)\n",
    "ax2.axvline(stepsize[e2_idx_rec], ls='dotted', alpha=0.5)\n",
    "\n",
    "ax2.axvline(stepsize[e1_idx_trap], ls='dashed', color='#98282E', alpha=0.5)\n",
    "ax2.axvline(stepsize[e2_idx_trap], ls='dotted', color='#98282E', alpha=0.5)\n",
    "###\n",
    "\n",
    "ax1.set_xlabel(r'stepsize ($\\Delta x$)', fontsize=16)\n",
    "ax2.set_xlabel(r'steps ($N$)', fontsize=16)\n",
    "ax1.set_ylabel(r'fractional error', fontsize=16)\n",
    "ax1.legend(fontsize = 16)"
   ]
  },
  {
   "cell_type": "markdown",
   "id": "563a90ba",
   "metadata": {},
   "source": [
    "The method to evalutating the integral is most efficient in reducing the calculation time to achieve the same accuracy. Implementing the Rectangle Rule, in order to achieve an order of 1e2 better accuracy, we also needed to compute 1e2 more calculations, requiring ~160000 operations to achieve a fractional error of 1e-5. Improving the method (i.e. using the Trapeoid Rule), we needed to increase the steps by a factor of 4 to improve the fractional error to 1e-5, requiring only 429 steps. Based on this, in order to improve numercal integration, I would first focus on a improving the method before trying to reduce the stepsize to get more accurate results."
   ]
  },
  {
   "cell_type": "markdown",
   "id": "a7928b83",
   "metadata": {},
   "source": [
    "b) Compare the results of your two integration routines to a built-in function in your programming language (or another common package like Mathematica or Matlab). For example,\n",
    "if you’re using Python, you may use one of the functions available in the scipy.integrate module. In Mathematica, you could use the Integrate function. What is the order accuracy of\n",
    "the black-box method? What is the default approach to integration? What step sizes do\n",
    "you need above to obtain a similar result?"
   ]
  },
  {
   "cell_type": "code",
   "execution_count": 48,
   "id": "b12d1809",
   "metadata": {},
   "outputs": [
    {
     "name": "stdout",
     "output_type": "stream",
     "text": [
      "The fractional error from scipy.integrate.quad is 4.924422546970678e-13\n"
     ]
    }
   ],
   "source": [
    "import scipy.integrate as integrate\n",
    "\n",
    "I_scipy, abs_err = integrate.quad(f, 1, 5)    #returns the absolute error\n",
    "\n",
    "frac_err_scipy = abs_err/Iexact    #to get fractional error\n",
    "\n",
    "print('The fractional error from scipy.integrate.quad is', frac_err_scipy)"
   ]
  },
  {
   "cell_type": "markdown",
   "id": "6fd5135f",
   "metadata": {},
   "source": [
    "The scipy.integrate.quad function uses QUADPACK, which is a FORTRAN77 library that estimates integrals using numerical quadrature, and for finite integrals, uses global adaptive quadrature based on 21-point Gauss–Kronrod quadrature within each subinterval, with acceleration by Peter Wynn's epsilon algorithm. \n",
    "In general, adaptive quadrature makes an approximation of the integral from a to b and caluclates an error estimate. If the estimated error is larger than some tolerance, the integral is subdivided into two integrals (from a to some value m, and m to b) and both halves are integrated seperately. Either the initial estimate or the sum of the recursively computed halves is returned.\n",
    "\n",
    "(Piessens, R. Quadpack : a Subroutine Package for Automatic Integration / R. Piessens et al. Berlin: Springer-Verlag, 1983. Print.)"
   ]
  },
  {
   "cell_type": "code",
   "execution_count": 49,
   "id": "7d27b5d9",
   "metadata": {},
   "outputs": [],
   "source": [
    "### To try to achieve a fractional error similar to scipy.integrate.quad\n",
    "N_arr = np.logspace(6,7,10, dtype = int)\n",
    "\n",
    "### Calculate integral using Rectangle Rule\n",
    "frac_err_rec_comp = np.array([calc_frac_err(rectangle(f, 1, 5, N), Iexact) for N in N_arr])\n",
    "\n",
    "### Calculate integral using Trapezoid Rule\n",
    "frac_err_trap_comp = np.array([calc_frac_err(trapezoid(f, 1, 5, N), Iexact) for N in N_arr])"
   ]
  },
  {
   "cell_type": "code",
   "execution_count": 63,
   "id": "2a9b195e",
   "metadata": {},
   "outputs": [
    {
     "name": "stdout",
     "output_type": "stream",
     "text": [
      "for step sizes\n",
      " [5.16619921e-07 4.00000000e-07]\n",
      "\n",
      "Rectangle Rule returns a fractional error of\n",
      " [2.12745934e-07 1.64721344e-07]\n",
      "\n",
      "Trapezoid Rule returns a fractional error of\n",
      " [1.09659313e-13 7.93322866e-14]\n",
      "\n",
      "The Trapezoid Rule achieves a similar level of accuracy with step sizes ! 5e-7, or\n",
      "about 7e6 steps over [a,b]. Based on these results, I would say in order to achieve a fractional \n",
      "error on order of 1e-13 using the Rectangle Rule, we would need about 1e13 steps over [a,b],  \n",
      "or step sizes on the order of 1e-13, since the fractional error seems to scale linearly \n",
      "with ~stepsize.\n"
     ]
    }
   ],
   "source": [
    "print('for step sizes\\n',4./N_arr[-2:])\n",
    "print('\\nRectangle Rule returns a fractional error of\\n', frac_err_rec_comp[-2:])\n",
    "print('\\nTrapezoid Rule returns a fractional error of\\n', frac_err_trap_comp[-2:])\n",
    "\n",
    "print('''\\nThe Trapezoid Rule achieves a similar level of accuracy with step sizes ! 5e-7, or\n",
    "about 7e6 steps over [a,b]. Based on these results, I would say in order to achieve a fractional \n",
    "error on order of 1e-13 using the Rectangle Rule, we would need about 1e13 steps over [a,b],  \n",
    "or step sizes on the order of 1e-13, since the fractional error seems to scale linearly \n",
    "with ~stepsize.''')"
   ]
  },
  {
   "cell_type": "markdown",
   "id": "4fd38f1f",
   "metadata": {},
   "source": [
    "### Shooting for the stars"
   ]
  },
  {
   "cell_type": "markdown",
   "id": "a4dfff79",
   "metadata": {},
   "source": [
    "Now let’s use our integration routines to evaluate an astronomy problem! Choose one of the\n",
    "following and use one of the integration methods you coded above to solve it:\n",
    "\n",
    "b) Write a program that computes the integral\n",
    "$$\n",
    "D_c = \\int_0^z dz' [\\Omega_m(1+z')^3 +(1. - \\Omega_m-\\Omega_\\Lambda)(1+z')^2+\\Omega_\\Lambda]^{-1/2}\n",
    "$$\n",
    "given input values of $\\Omega_m$, $\\Omega_\\Lambda$ and $z$. If you look up Hogg (1999, astro-ph/99055116), equation\n",
    "(15) you will see that this integral, multiplied by $cH^{-1}_0$ = 3000$h^{-1}$ Mpc, gives the “comoving\n",
    "distance” to an object at redshift $z$ in a universe with matter density parameter $\\Omega_m$ and cosmological constant $\\Omega_\\Lambda$. This can in turn be used to calculate (with no additional integrals)\n",
    "other cosmologically useful distances like the luminosity or angular diameter distance.\n",
    "\n",
    "What is the comoving distance to $z$ = 2 in a universe with $\\Omega_m$ = 0.3 and $\\Omega_\\Lambda$ = 0.7? Make\n",
    "a plot of the comoving distance in Mpc versus redshift for $z$ = 0 −10."
   ]
  },
  {
   "cell_type": "code",
   "execution_count": 138,
   "id": "eaf2fd7b",
   "metadata": {},
   "outputs": [],
   "source": [
    "def integrand(z):\n",
    "    Omm = 0.3\n",
    "    OmL = 0.7\n",
    "    return (Omm*(1+z)**3 + (1-Omm-OmL)*(1+z)**2 + OmL)**(-1./2.)"
   ]
  },
  {
   "cell_type": "code",
   "execution_count": 129,
   "id": "f030d5b9",
   "metadata": {},
   "outputs": [],
   "source": [
    "z_arr = np.linspace(0, 10, 1000)\n",
    "\n",
    "Dc =np.array([trapezoid(integrand, 0, z, 1000) for z in z_arr]) \n",
    "\n",
    "### In Mpc, assuming h=0.7\n",
    "Dc_Mpc = Dc*3000./0.7\n",
    "Dc_z2 = Dc_Mpc[np.abs(z_arr - 2).argmin()]     #Comoving Distance at z=2"
   ]
  },
  {
   "cell_type": "code",
   "execution_count": 134,
   "id": "cc36b3f5",
   "metadata": {},
   "outputs": [
    {
     "name": "stdout",
     "output_type": "stream",
     "text": [
      "The comoving distance to z = 2 is 5186.34 Mpc\n"
     ]
    },
    {
     "data": {
      "image/png": "[encoded data removed]",
      "text/plain": [
       "<Figure size 576x504 with 1 Axes>"
      ]
     },
     "metadata": {
      "needs_background": "light"
     },
     "output_type": "display_data"
    }
   ],
   "source": [
    "fig = plt.figure(figsize = (8, 7))\n",
    "ax1 = fig.add_subplot(111)\n",
    "\n",
    "ax1.plot(z_arr,Dc_Mpc, lw=3, zorder = 20)\n",
    "\n",
    "s =  r'$\\Omega_m = 0.3$' +'\\n'+r'$\\Omega_\\Lambda = 0.7$'\n",
    "ax1.text(7.6, 700, s, fontsize = 16)\n",
    "\n",
    "ax1.set_xlim(0,10)\n",
    "ax1.set_ylim(bottom=0)\n",
    "ax1.axvline(2, ls='dashed', color='k', alpha = 0.5)\n",
    "ax1.axhline(Dc_z2, ls='dashed', color='k', alpha = 0.5)\n",
    "\n",
    "ax1.set_xlabel(r'Redshift $z$', fontsize=16)\n",
    "ax1.set_ylabel(r'Comoving distance [Mpc]', fontsize=16)\n",
    "ax1.set_title('Comoving Distance for a flat universe', fontsize=18)\n",
    "\n",
    "print('The comoving distance to z = 2 is {:.2f} Mpc'.format(Dc_z2))"
   ]
  },
  {
   "cell_type": "code",
   "execution_count": null,
   "id": "e512f1e4",
   "metadata": {},
   "outputs": [],
   "source": []
  }
 ],
 "metadata": {
  "kernelspec": {
   "display_name": "Python 3",
   "language": "python",
   "name": "python3"
  },
  "language_info": {
   "codemirror_mode": {
    "name": "ipython",
    "version": 3
   },
   "file_extension": ".py",
   "mimetype": "text/x-python",
   "name": "python",
   "nbconvert_exporter": "python",
   "pygments_lexer": "ipython3",
   "version": "3.8.8"
  }
 },
 "nbformat": 4,
 "nbformat_minor": 5
}
